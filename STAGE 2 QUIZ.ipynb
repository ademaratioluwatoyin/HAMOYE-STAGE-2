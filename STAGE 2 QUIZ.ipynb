{
 "cells": [
  {
   "cell_type": "code",
   "execution_count": 191,
   "metadata": {},
   "outputs": [],
   "source": [
    "# import libraries\n",
    "import pandas as pd\n",
    "import numpy as np\n",
    "from sklearn.preprocessing import StandardScaler, MinMaxScaler, RobustScaler\n",
    "from sklearn.linear_model import LinearRegression, Ridge, Lasso, ElasticNet\n",
    "from sklearn.metrics import mean_squared_error, mean_absolute_error, r2_score\n",
    "from sklearn.model_selection import train_test_split"
   ]
  },
  {
   "cell_type": "code",
   "execution_count": 192,
   "metadata": {},
   "outputs": [
    {
     "data": {
      "text/html": [
       "<div>\n",
       "<style scoped>\n",
       "    .dataframe tbody tr th:only-of-type {\n",
       "        vertical-align: middle;\n",
       "    }\n",
       "\n",
       "    .dataframe tbody tr th {\n",
       "        vertical-align: top;\n",
       "    }\n",
       "\n",
       "    .dataframe thead th {\n",
       "        text-align: right;\n",
       "    }\n",
       "</style>\n",
       "<table border=\"1\" class=\"dataframe\">\n",
       "  <thead>\n",
       "    <tr style=\"text-align: right;\">\n",
       "      <th></th>\n",
       "      <th>date</th>\n",
       "      <th>Appliances</th>\n",
       "      <th>lights</th>\n",
       "      <th>T1</th>\n",
       "      <th>RH_1</th>\n",
       "      <th>T2</th>\n",
       "      <th>RH_2</th>\n",
       "      <th>T3</th>\n",
       "      <th>RH_3</th>\n",
       "      <th>T4</th>\n",
       "      <th>...</th>\n",
       "      <th>T9</th>\n",
       "      <th>RH_9</th>\n",
       "      <th>T_out</th>\n",
       "      <th>Press_mm_hg</th>\n",
       "      <th>RH_out</th>\n",
       "      <th>Windspeed</th>\n",
       "      <th>Visibility</th>\n",
       "      <th>Tdewpoint</th>\n",
       "      <th>rv1</th>\n",
       "      <th>rv2</th>\n",
       "    </tr>\n",
       "  </thead>\n",
       "  <tbody>\n",
       "    <tr>\n",
       "      <th>7862</th>\n",
       "      <td>2016-03-06 07:20:00</td>\n",
       "      <td>50</td>\n",
       "      <td>0</td>\n",
       "      <td>18.79</td>\n",
       "      <td>37.900000</td>\n",
       "      <td>16.700000</td>\n",
       "      <td>40.200000</td>\n",
       "      <td>20.200000</td>\n",
       "      <td>38.09</td>\n",
       "      <td>17.39</td>\n",
       "      <td>...</td>\n",
       "      <td>18.033333</td>\n",
       "      <td>41.826667</td>\n",
       "      <td>2.833333</td>\n",
       "      <td>745.5</td>\n",
       "      <td>91.666667</td>\n",
       "      <td>7.0</td>\n",
       "      <td>36.0</td>\n",
       "      <td>1.633333</td>\n",
       "      <td>4.016206</td>\n",
       "      <td>4.016206</td>\n",
       "    </tr>\n",
       "    <tr>\n",
       "      <th>13944</th>\n",
       "      <td>2016-04-17 13:00:00</td>\n",
       "      <td>70</td>\n",
       "      <td>0</td>\n",
       "      <td>22.50</td>\n",
       "      <td>43.556667</td>\n",
       "      <td>21.926667</td>\n",
       "      <td>40.526667</td>\n",
       "      <td>23.066667</td>\n",
       "      <td>38.50</td>\n",
       "      <td>22.10</td>\n",
       "      <td>...</td>\n",
       "      <td>21.000000</td>\n",
       "      <td>39.493333</td>\n",
       "      <td>6.000000</td>\n",
       "      <td>755.8</td>\n",
       "      <td>72.000000</td>\n",
       "      <td>1.0</td>\n",
       "      <td>40.0</td>\n",
       "      <td>1.300000</td>\n",
       "      <td>6.583746</td>\n",
       "      <td>6.583746</td>\n",
       "    </tr>\n",
       "  </tbody>\n",
       "</table>\n",
       "<p>2 rows × 29 columns</p>\n",
       "</div>"
      ],
      "text/plain": [
       "                      date  Appliances  lights     T1       RH_1         T2  \\\n",
       "7862   2016-03-06 07:20:00          50       0  18.79  37.900000  16.700000   \n",
       "13944  2016-04-17 13:00:00          70       0  22.50  43.556667  21.926667   \n",
       "\n",
       "            RH_2         T3   RH_3     T4  ...         T9       RH_9  \\\n",
       "7862   40.200000  20.200000  38.09  17.39  ...  18.033333  41.826667   \n",
       "13944  40.526667  23.066667  38.50  22.10  ...  21.000000  39.493333   \n",
       "\n",
       "          T_out  Press_mm_hg     RH_out  Windspeed  Visibility  Tdewpoint  \\\n",
       "7862   2.833333        745.5  91.666667        7.0        36.0   1.633333   \n",
       "13944  6.000000        755.8  72.000000        1.0        40.0   1.300000   \n",
       "\n",
       "            rv1       rv2  \n",
       "7862   4.016206  4.016206  \n",
       "13944  6.583746  6.583746  \n",
       "\n",
       "[2 rows x 29 columns]"
      ]
     },
     "execution_count": 192,
     "metadata": {},
     "output_type": "execute_result"
    }
   ],
   "source": [
    "energy_data = pd.read_csv('energy_data.csv')\n",
    "energy_data.sample(2)"
   ]
  },
  {
   "cell_type": "code",
   "execution_count": 193,
   "metadata": {},
   "outputs": [],
   "source": [
    "# drop date and lights\n",
    "energy_data.drop(['date','lights'], axis = 1, inplace = True)"
   ]
  },
  {
   "cell_type": "code",
   "execution_count": 195,
   "metadata": {},
   "outputs": [
    {
     "data": {
      "text/html": [
       "<div>\n",
       "<style scoped>\n",
       "    .dataframe tbody tr th:only-of-type {\n",
       "        vertical-align: middle;\n",
       "    }\n",
       "\n",
       "    .dataframe tbody tr th {\n",
       "        vertical-align: top;\n",
       "    }\n",
       "\n",
       "    .dataframe thead th {\n",
       "        text-align: right;\n",
       "    }\n",
       "</style>\n",
       "<table border=\"1\" class=\"dataframe\">\n",
       "  <thead>\n",
       "    <tr style=\"text-align: right;\">\n",
       "      <th></th>\n",
       "      <th>Appliances</th>\n",
       "      <th>T1</th>\n",
       "      <th>RH_1</th>\n",
       "      <th>T2</th>\n",
       "      <th>RH_2</th>\n",
       "      <th>T3</th>\n",
       "      <th>RH_3</th>\n",
       "      <th>T4</th>\n",
       "      <th>RH_4</th>\n",
       "      <th>T5</th>\n",
       "      <th>...</th>\n",
       "      <th>T9</th>\n",
       "      <th>RH_9</th>\n",
       "      <th>T_out</th>\n",
       "      <th>Press_mm_hg</th>\n",
       "      <th>RH_out</th>\n",
       "      <th>Windspeed</th>\n",
       "      <th>Visibility</th>\n",
       "      <th>Tdewpoint</th>\n",
       "      <th>rv1</th>\n",
       "      <th>rv2</th>\n",
       "    </tr>\n",
       "  </thead>\n",
       "  <tbody>\n",
       "    <tr>\n",
       "      <th>2033</th>\n",
       "      <td>0.345794</td>\n",
       "      <td>0.380148</td>\n",
       "      <td>0.443170</td>\n",
       "      <td>0.239157</td>\n",
       "      <td>0.644953</td>\n",
       "      <td>0.268085</td>\n",
       "      <td>0.722698</td>\n",
       "      <td>0.267267</td>\n",
       "      <td>0.757149</td>\n",
       "      <td>0.297075</td>\n",
       "      <td>...</td>\n",
       "      <td>0.229969</td>\n",
       "      <td>0.779525</td>\n",
       "      <td>0.467846</td>\n",
       "      <td>0.778295</td>\n",
       "      <td>0.703947</td>\n",
       "      <td>0.285714</td>\n",
       "      <td>0.600000</td>\n",
       "      <td>0.559578</td>\n",
       "      <td>0.794104</td>\n",
       "      <td>0.794104</td>\n",
       "    </tr>\n",
       "    <tr>\n",
       "      <th>9150</th>\n",
       "      <td>0.028037</td>\n",
       "      <td>0.432946</td>\n",
       "      <td>0.233281</td>\n",
       "      <td>0.065423</td>\n",
       "      <td>0.604649</td>\n",
       "      <td>0.373878</td>\n",
       "      <td>0.336501</td>\n",
       "      <td>0.422523</td>\n",
       "      <td>0.236449</td>\n",
       "      <td>0.378404</td>\n",
       "      <td>...</td>\n",
       "      <td>0.468262</td>\n",
       "      <td>0.402870</td>\n",
       "      <td>0.102894</td>\n",
       "      <td>0.853488</td>\n",
       "      <td>0.855263</td>\n",
       "      <td>0.071429</td>\n",
       "      <td>0.923077</td>\n",
       "      <td>0.144796</td>\n",
       "      <td>0.039366</td>\n",
       "      <td>0.039366</td>\n",
       "    </tr>\n",
       "  </tbody>\n",
       "</table>\n",
       "<p>2 rows × 27 columns</p>\n",
       "</div>"
      ],
      "text/plain": [
       "      Appliances        T1      RH_1        T2      RH_2        T3      RH_3  \\\n",
       "2033    0.345794  0.380148  0.443170  0.239157  0.644953  0.268085  0.722698   \n",
       "9150    0.028037  0.432946  0.233281  0.065423  0.604649  0.373878  0.336501   \n",
       "\n",
       "            T4      RH_4        T5  ...        T9      RH_9     T_out  \\\n",
       "2033  0.267267  0.757149  0.297075  ...  0.229969  0.779525  0.467846   \n",
       "9150  0.422523  0.236449  0.378404  ...  0.468262  0.402870  0.102894   \n",
       "\n",
       "      Press_mm_hg    RH_out  Windspeed  Visibility  Tdewpoint       rv1  \\\n",
       "2033     0.778295  0.703947   0.285714    0.600000   0.559578  0.794104   \n",
       "9150     0.853488  0.855263   0.071429    0.923077   0.144796  0.039366   \n",
       "\n",
       "           rv2  \n",
       "2033  0.794104  \n",
       "9150  0.039366  \n",
       "\n",
       "[2 rows x 27 columns]"
      ]
     },
     "execution_count": 195,
     "metadata": {},
     "output_type": "execute_result"
    }
   ],
   "source": [
    "# normalize dataset\n",
    "scaler = MinMaxScaler()\n",
    "Normalized = pd.DataFrame(scaler.fit_transform(energy_data), columns= energy_data.columns)\n",
    "Normalized.sample(2)"
   ]
  },
  {
   "cell_type": "code",
   "execution_count": 196,
   "metadata": {},
   "outputs": [],
   "source": [
    "# independent columns\n",
    "x = Normalized.drop(['Appliances'], axis = 1)\n",
    "\n",
    "# dependent columns(to be predicted)\n",
    "y = Normalized['Appliances']"
   ]
  },
  {
   "cell_type": "code",
   "execution_count": 197,
   "metadata": {},
   "outputs": [],
   "source": [
    "# split dataset into test and train\n",
    "xtrain, xtest, ytrain, ytest = train_test_split(x, y, test_size = 0.3, random_state = 42)"
   ]
  },
  {
   "cell_type": "markdown",
   "metadata": {},
   "source": [
    "## Simple Linear Regression Model using temperature in the living room in Celsius (x = T2) and the temperature outside the building (y = T6)"
   ]
  },
  {
   "cell_type": "code",
   "execution_count": 198,
   "metadata": {},
   "outputs": [],
   "source": [
    "x_train = xtrain[['T2']]\n",
    "y_train = xtrain['T6']\n",
    "x_test = xtest[['T2']]\n",
    "y_test = xtest['T6']\n",
    "\n",
    "Simple_Lr = LinearRegression()\n",
    "Simple_Lr.fit(x_train, y_train)\n",
    "predicted_Simple_Lr = Simple_Lr.predict(x_test)"
   ]
  },
  {
   "cell_type": "code",
   "execution_count": 199,
   "metadata": {},
   "outputs": [
    {
     "data": {
      "text/plain": [
       "0.64"
      ]
     },
     "execution_count": 199,
     "metadata": {},
     "output_type": "execute_result"
    }
   ],
   "source": [
    "r2_value = r2_score(y_test, predicted_Simple_Lr)\n",
    "round(r2_value, 2)"
   ]
  },
  {
   "cell_type": "markdown",
   "metadata": {},
   "source": [
    "## Multiple Linear Regression "
   ]
  },
  {
   "cell_type": "code",
   "execution_count": 200,
   "metadata": {},
   "outputs": [],
   "source": [
    "# Linear Model\n",
    "Lr = LinearRegression()\n",
    "Lr.fit(xtrain, ytrain)\n",
    "predictedLr = Lr.predict(xtest)"
   ]
  },
  {
   "cell_type": "code",
   "execution_count": 201,
   "metadata": {},
   "outputs": [
    {
     "name": "stdout",
     "output_type": "stream",
     "text": [
      "Mean Absolute Error = 0.05\n"
     ]
    }
   ],
   "source": [
    "# Mean absolute Error in 2 decimal places\n",
    "mean_absolute_error = round(mean_absolute_error(ytest, predictedLr),2)\n",
    "print('Mean Absolute Error =', mean_absolute_error)"
   ]
  },
  {
   "cell_type": "code",
   "execution_count": 202,
   "metadata": {},
   "outputs": [
    {
     "name": "stdout",
     "output_type": "stream",
     "text": [
      "Residual Sum of Squares = 45.35\n"
     ]
    }
   ],
   "source": [
    "# residual sum of squares in 2 decimal places\n",
    "residual_sum_of_squares = round(np.sum(np.square(ytest-predictedLr)),2)\n",
    "print('Residual Sum of Squares =', residual_sum_of_squares)"
   ]
  },
  {
   "cell_type": "code",
   "execution_count": 203,
   "metadata": {},
   "outputs": [
    {
     "name": "stdout",
     "output_type": "stream",
     "text": [
      "Root Mean Squared Error = 0.088\n"
     ]
    }
   ],
   "source": [
    "# Root Mean Squared Error in three decimal places\n",
    "Root_Mean_Squared_Error = round(np.sqrt(mean_squared_error(ytest,predictedLr)),3)\n",
    "print('Root Mean Squared Error =', Root_Mean_Squared_Error)"
   ]
  },
  {
   "cell_type": "code",
   "execution_count": 204,
   "metadata": {},
   "outputs": [
    {
     "name": "stdout",
     "output_type": "stream",
     "text": [
      "Coefficient_of_Determination = 0.15\n"
     ]
    }
   ],
   "source": [
    "# Coefficient of Determination(r-squard) in two decimal places\n",
    "Coefficient_of_Determination = round(r2_score(ytest,predictedLr),2)\n",
    "print('Coefficient_of_Determination =', Coefficient_of_Determination)"
   ]
  },
  {
   "cell_type": "code",
   "execution_count": 185,
   "metadata": {},
   "outputs": [
    {
     "name": "stdout",
     "output_type": "stream",
     "text": [
      "Feature with highest weight is RH_1\n",
      "Feature with lowest weight is RH_2\n"
     ]
    }
   ],
   "source": [
    "# Finding the features with the lowest and hightest weight\n",
    "\n",
    "Model_weight = pd.Series(Lr.coef_, xtrain.columns)\n",
    "\n",
    "# for highest weight\n",
    "print('Feature with highest weight is',Model_weight.idxmax())\n",
    "\n",
    "#for lowest weight\n",
    "print('Feature with lowest weight is',Model_weight.idxmin())"
   ]
  },
  {
   "cell_type": "markdown",
   "metadata": {},
   "source": [
    "## Ridge Regression"
   ]
  },
  {
   "cell_type": "code",
   "execution_count": 165,
   "metadata": {},
   "outputs": [],
   "source": [
    "# Ridge Regression using alpha = 0.4\n",
    "RR = Ridge(alpha = 0.4)\n",
    "RR.fit(xtrain, ytrain)\n",
    "predictedRR = RR.predict(xtest)"
   ]
  },
  {
   "cell_type": "code",
   "execution_count": 169,
   "metadata": {},
   "outputs": [
    {
     "name": "stdout",
     "output_type": "stream",
     "text": [
      "There is a change\n"
     ]
    }
   ],
   "source": [
    "Lr_rmse= np.sqrt(mean_squared_error(ytest, predictedLr))\n",
    "RR_rmse = np.sqrt(mean_squared_error(ytest, predictedRR))\n",
    "if Lr_rmse == RR_rmse:\n",
    "    print('There exists no change')\n",
    "else:\n",
    "    print('There is a change')"
   ]
  },
  {
   "cell_type": "markdown",
   "metadata": {},
   "source": [
    "## Lasso Regression"
   ]
  },
  {
   "cell_type": "code",
   "execution_count": 175,
   "metadata": {},
   "outputs": [],
   "source": [
    "LassoR = Lasso(alpha = 0.001)\n",
    "LassoR.fit(xtrain, ytrain)\n",
    "predictedLassoR = LassoR.predict(xtest)"
   ]
  },
  {
   "cell_type": "code",
   "execution_count": 183,
   "metadata": {},
   "outputs": [
    {
     "name": "stdout",
     "output_type": "stream",
     "text": [
      "Number of features with non-zero weights = 4\n"
     ]
    }
   ],
   "source": [
    "Lr_weight = pd.Series(LassoR.coef_, xtrain.columns)\n",
    "print('Number of features with non-zero weights =',Lr_weight[Lr_weight!=0].count())"
   ]
  },
  {
   "cell_type": "code",
   "execution_count": 188,
   "metadata": {},
   "outputs": [
    {
     "name": "stdout",
     "output_type": "stream",
     "text": [
      "Root mean squared error for Lasso Regression is 0.094\n"
     ]
    }
   ],
   "source": [
    "# RMSE with the Lasso Regression in 3 decimal places\n",
    "LassoR_rmse = round(np.sqrt(mean_squared_error(ytest, predictedLassoR)),3)\n",
    "print('Root mean squared error for Lasso Regression is',LassoR_rmse)"
   ]
  }
 ],
 "metadata": {
  "kernelspec": {
   "display_name": "Python 3",
   "language": "python",
   "name": "python3"
  },
  "language_info": {
   "codemirror_mode": {
    "name": "ipython",
    "version": 3
   },
   "file_extension": ".py",
   "mimetype": "text/x-python",
   "name": "python",
   "nbconvert_exporter": "python",
   "pygments_lexer": "ipython3",
   "version": "3.8.5"
  }
 },
 "nbformat": 4,
 "nbformat_minor": 4
}
